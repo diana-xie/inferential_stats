{
 "cells": [
  {
   "cell_type": "markdown",
   "metadata": {},
   "source": [
    "# Examining Racial Discrimination in the US Job Market\n",
    "\n",
    "### Background\n",
    "Racial discrimination continues to be pervasive in cultures throughout the world. Researchers examined the level of racial discrimination in the United States labor market by randomly assigning identical résumés to black-sounding or white-sounding names and observing the impact on requests for interviews from employers.\n",
    "\n",
    "### Data\n",
    "In the dataset provided, each row represents a resume. The 'race' column has two values, 'b' and 'w', indicating black-sounding and white-sounding. The column 'call' has two values, 1 and 0, indicating whether the resume received a call from employers or not.\n",
    "\n",
    "Note that the 'b' and 'w' values in race are assigned randomly to the resumes when presented to the employer."
   ]
  },
  {
   "cell_type": "markdown",
   "metadata": {},
   "source": [
    "### Exercises\n",
    "You will perform a statistical analysis to establish whether race has a significant impact on the rate of callbacks for resumes.\n",
    "\n",
    "Answer the following questions **in this notebook below and submit to your Github account**. \n",
    "\n",
    "   1. What test is appropriate for this problem? Does CLT apply?\n",
    "   2. What are the null and alternate hypotheses?\n",
    "   3. Compute margin of error, confidence interval, and p-value. Try using both the bootstrapping and the frequentist statistical approaches.\n",
    "   4. Write a story describing the statistical significance in the context or the original problem.\n",
    "   5. Does your analysis mean that race/name is the most important factor in callback success? Why or why not? If not, how would you amend your analysis?\n",
    "\n",
    "You can include written notes in notebook cells using Markdown: \n",
    "   - In the control panel at the top, choose Cell > Cell Type > Markdown\n",
    "   - Markdown syntax: http://nestacms.com/docs/creating-content/markdown-cheat-sheet\n",
    "\n",
    "\n",
    "#### Resources\n",
    "+ Experiment information and data source: http://www.povertyactionlab.org/evaluation/discrimination-job-market-united-states\n",
    "+ Scipy statistical methods: http://docs.scipy.org/doc/scipy/reference/stats.html \n",
    "+ Markdown syntax: http://nestacms.com/docs/creating-content/markdown-cheat-sheet\n",
    "+ Formulas for the Bernoulli distribution: https://en.wikipedia.org/wiki/Bernoulli_distribution"
   ]
  },
  {
   "cell_type": "code",
   "execution_count": 18,
   "metadata": {},
   "outputs": [],
   "source": [
    "import pandas as pd\n",
    "import numpy as np\n",
    "from scipy import stats\n",
    "import matplotlib.pyplot as plt"
   ]
  },
  {
   "cell_type": "code",
   "execution_count": 5,
   "metadata": {},
   "outputs": [],
   "source": [
    "data = pd.io.stata.read_stata('data/us_job_market_discrimination.dta')"
   ]
  },
  {
   "cell_type": "code",
   "execution_count": 13,
   "metadata": {},
   "outputs": [
    {
     "data": {
      "text/plain": [
       "235.0"
      ]
     },
     "execution_count": 13,
     "metadata": {},
     "output_type": "execute_result"
    }
   ],
   "source": [
    "# number of callbacks for black-sounding names\n",
    "sum(data[data.race=='w'].call)"
   ]
  },
  {
   "cell_type": "code",
   "execution_count": 7,
   "metadata": {},
   "outputs": [
    {
     "data": {
      "text/html": [
       "<div>\n",
       "<style scoped>\n",
       "    .dataframe tbody tr th:only-of-type {\n",
       "        vertical-align: middle;\n",
       "    }\n",
       "\n",
       "    .dataframe tbody tr th {\n",
       "        vertical-align: top;\n",
       "    }\n",
       "\n",
       "    .dataframe thead th {\n",
       "        text-align: right;\n",
       "    }\n",
       "</style>\n",
       "<table border=\"1\" class=\"dataframe\">\n",
       "  <thead>\n",
       "    <tr style=\"text-align: right;\">\n",
       "      <th></th>\n",
       "      <th>id</th>\n",
       "      <th>ad</th>\n",
       "      <th>education</th>\n",
       "      <th>ofjobs</th>\n",
       "      <th>yearsexp</th>\n",
       "      <th>honors</th>\n",
       "      <th>volunteer</th>\n",
       "      <th>military</th>\n",
       "      <th>empholes</th>\n",
       "      <th>occupspecific</th>\n",
       "      <th>...</th>\n",
       "      <th>compreq</th>\n",
       "      <th>orgreq</th>\n",
       "      <th>manuf</th>\n",
       "      <th>transcom</th>\n",
       "      <th>bankreal</th>\n",
       "      <th>trade</th>\n",
       "      <th>busservice</th>\n",
       "      <th>othservice</th>\n",
       "      <th>missind</th>\n",
       "      <th>ownership</th>\n",
       "    </tr>\n",
       "  </thead>\n",
       "  <tbody>\n",
       "    <tr>\n",
       "      <th>0</th>\n",
       "      <td>b</td>\n",
       "      <td>1</td>\n",
       "      <td>4</td>\n",
       "      <td>2</td>\n",
       "      <td>6</td>\n",
       "      <td>0</td>\n",
       "      <td>0</td>\n",
       "      <td>0</td>\n",
       "      <td>1</td>\n",
       "      <td>17</td>\n",
       "      <td>...</td>\n",
       "      <td>1.0</td>\n",
       "      <td>0.0</td>\n",
       "      <td>1.0</td>\n",
       "      <td>0.0</td>\n",
       "      <td>0.0</td>\n",
       "      <td>0.0</td>\n",
       "      <td>0.0</td>\n",
       "      <td>0.0</td>\n",
       "      <td>0.0</td>\n",
       "      <td></td>\n",
       "    </tr>\n",
       "    <tr>\n",
       "      <th>1</th>\n",
       "      <td>b</td>\n",
       "      <td>1</td>\n",
       "      <td>3</td>\n",
       "      <td>3</td>\n",
       "      <td>6</td>\n",
       "      <td>0</td>\n",
       "      <td>1</td>\n",
       "      <td>1</td>\n",
       "      <td>0</td>\n",
       "      <td>316</td>\n",
       "      <td>...</td>\n",
       "      <td>1.0</td>\n",
       "      <td>0.0</td>\n",
       "      <td>1.0</td>\n",
       "      <td>0.0</td>\n",
       "      <td>0.0</td>\n",
       "      <td>0.0</td>\n",
       "      <td>0.0</td>\n",
       "      <td>0.0</td>\n",
       "      <td>0.0</td>\n",
       "      <td></td>\n",
       "    </tr>\n",
       "    <tr>\n",
       "      <th>2</th>\n",
       "      <td>b</td>\n",
       "      <td>1</td>\n",
       "      <td>4</td>\n",
       "      <td>1</td>\n",
       "      <td>6</td>\n",
       "      <td>0</td>\n",
       "      <td>0</td>\n",
       "      <td>0</td>\n",
       "      <td>0</td>\n",
       "      <td>19</td>\n",
       "      <td>...</td>\n",
       "      <td>1.0</td>\n",
       "      <td>0.0</td>\n",
       "      <td>1.0</td>\n",
       "      <td>0.0</td>\n",
       "      <td>0.0</td>\n",
       "      <td>0.0</td>\n",
       "      <td>0.0</td>\n",
       "      <td>0.0</td>\n",
       "      <td>0.0</td>\n",
       "      <td></td>\n",
       "    </tr>\n",
       "    <tr>\n",
       "      <th>3</th>\n",
       "      <td>b</td>\n",
       "      <td>1</td>\n",
       "      <td>3</td>\n",
       "      <td>4</td>\n",
       "      <td>6</td>\n",
       "      <td>0</td>\n",
       "      <td>1</td>\n",
       "      <td>0</td>\n",
       "      <td>1</td>\n",
       "      <td>313</td>\n",
       "      <td>...</td>\n",
       "      <td>1.0</td>\n",
       "      <td>0.0</td>\n",
       "      <td>1.0</td>\n",
       "      <td>0.0</td>\n",
       "      <td>0.0</td>\n",
       "      <td>0.0</td>\n",
       "      <td>0.0</td>\n",
       "      <td>0.0</td>\n",
       "      <td>0.0</td>\n",
       "      <td></td>\n",
       "    </tr>\n",
       "    <tr>\n",
       "      <th>4</th>\n",
       "      <td>b</td>\n",
       "      <td>1</td>\n",
       "      <td>3</td>\n",
       "      <td>3</td>\n",
       "      <td>22</td>\n",
       "      <td>0</td>\n",
       "      <td>0</td>\n",
       "      <td>0</td>\n",
       "      <td>0</td>\n",
       "      <td>313</td>\n",
       "      <td>...</td>\n",
       "      <td>1.0</td>\n",
       "      <td>1.0</td>\n",
       "      <td>0.0</td>\n",
       "      <td>0.0</td>\n",
       "      <td>0.0</td>\n",
       "      <td>0.0</td>\n",
       "      <td>0.0</td>\n",
       "      <td>1.0</td>\n",
       "      <td>0.0</td>\n",
       "      <td>Nonprofit</td>\n",
       "    </tr>\n",
       "  </tbody>\n",
       "</table>\n",
       "<p>5 rows × 65 columns</p>\n",
       "</div>"
      ],
      "text/plain": [
       "  id ad  education  ofjobs  yearsexp  honors  volunteer  military  empholes  \\\n",
       "0  b  1          4       2         6       0          0         0         1   \n",
       "1  b  1          3       3         6       0          1         1         0   \n",
       "2  b  1          4       1         6       0          0         0         0   \n",
       "3  b  1          3       4         6       0          1         0         1   \n",
       "4  b  1          3       3        22       0          0         0         0   \n",
       "\n",
       "   occupspecific    ...      compreq  orgreq  manuf  transcom  bankreal trade  \\\n",
       "0             17    ...          1.0     0.0    1.0       0.0       0.0   0.0   \n",
       "1            316    ...          1.0     0.0    1.0       0.0       0.0   0.0   \n",
       "2             19    ...          1.0     0.0    1.0       0.0       0.0   0.0   \n",
       "3            313    ...          1.0     0.0    1.0       0.0       0.0   0.0   \n",
       "4            313    ...          1.0     1.0    0.0       0.0       0.0   0.0   \n",
       "\n",
       "  busservice othservice  missind  ownership  \n",
       "0        0.0        0.0      0.0             \n",
       "1        0.0        0.0      0.0             \n",
       "2        0.0        0.0      0.0             \n",
       "3        0.0        0.0      0.0             \n",
       "4        0.0        1.0      0.0  Nonprofit  \n",
       "\n",
       "[5 rows x 65 columns]"
      ]
     },
     "execution_count": 7,
     "metadata": {},
     "output_type": "execute_result"
    }
   ],
   "source": [
    "data.head()"
   ]
  },
  {
   "cell_type": "markdown",
   "metadata": {
    "collapsed": true
   },
   "source": [
    "\n",
    "> ### Q1: What test is appropriate for this problem? Does CLT apply?\n",
    "\n",
    "The data is binary with 0 = failure (no callback) and 1 = success (callback) and fulfills the conditions for a binomial distribution (under the necessary assumptions). And since we are comparing two populations, each with sample sizes (n) much larger than 30, a two-sample z-test is appropriate. \n",
    "\n",
    "CLT still applies, since the binomial data follow a normal distribution and n > 30.\n",
    "\n",
    "<i>Assumptions:</i>\n",
    "- Each trial (observed case/row of data) has a fixed probability of success/failure.\n",
    "- The observations are independent from one another.\n",
    "- There is a fixed number of trials - we're sticking to the number of observed cases.\n",
    "\n",
    "> ### Q2: What are the null and alternate hypotheses?\n",
    "\n",
    "H0: There is no difference in average callback rate between the black and white-sounding named job-seekers.<p>\n",
    "HA: Black-sounding named job-seekers have a lower average callback than white-sounding.\n"
   ]
  },
  {
   "cell_type": "code",
   "execution_count": 8,
   "metadata": {},
   "outputs": [],
   "source": [
    "w = data[data.race=='w']\n",
    "b = data[data.race=='b']"
   ]
  },
  {
   "cell_type": "code",
   "execution_count": 74,
   "metadata": {},
   "outputs": [
    {
     "name": "stdout",
     "output_type": "stream",
     "text": [
      "White-sounding population size:  2435\n",
      "Black-sounding population size:  2435\n"
     ]
    }
   ],
   "source": [
    "n_w = len(w)\n",
    "n_b = len(b)\n",
    "\n",
    "print('White-sounding population size: ', n_w)\n",
    "print('Black-sounding population size: ', n_b)"
   ]
  },
  {
   "cell_type": "code",
   "execution_count": 76,
   "metadata": {},
   "outputs": [
    {
     "name": "stdout",
     "output_type": "stream",
     "text": [
      "# of callbacks (white):  235.0\n",
      "# of callbacks (black):  157.0\n",
      "probability of callback (white):  0.09650924024640657\n",
      "probability of callback (black):  0.06447638603696099\n"
     ]
    }
   ],
   "source": [
    "# calculate some stats\n",
    "\n",
    "# 0/1 callback data\n",
    "callback_w = data[data.race=='w'].call\n",
    "callback_b = data[data.race=='b'].call\n",
    "\n",
    "# total # of callbacks\n",
    "callback_w_sum = sum(data[data.race=='w'].call)\n",
    "callback_b_sum = sum(data[data.race=='b'].call)\n",
    "\n",
    "# probability of callback\n",
    "callback_w_prob = callback_w_sum / len(w)\n",
    "callback_b_prob = callback_b_sum / len(b)\n",
    "\n",
    "# variance & std of distributions\n",
    "variance_w = sum(callback_w)*(1 - mean_w)\n",
    "variance_b = sum(callback_b)*(1 - mean_b)\n",
    "std_w = math.sqrt(variance_w)\n",
    "std_b = math.sqrt(variance_b)\n",
    "\n",
    "print('# of callbacks (white): ', callback_w_sum)\n",
    "print('# of callbacks (black): ', callback_b_sum)\n",
    "print('probability of callback (white): ', callback_w_prob)\n",
    "print('probability of callback (black): ', callback_b_prob)"
   ]
  },
  {
   "cell_type": "markdown",
   "metadata": {},
   "source": [
    "> ### Q3: Compute margin of error, confidence interval, and p-value. Try using both the bootstrapping and the frequentist statistical approaches.\n"
   ]
  },
  {
   "cell_type": "markdown",
   "metadata": {},
   "source": [
    "### 1. Bootstrap approach"
   ]
  },
  {
   "cell_type": "code",
   "execution_count": 96,
   "metadata": {},
   "outputs": [],
   "source": [
    "# Bootstrap sample data\n",
    "boot_b = np.random.binomial(n=len(b), p=callback_b_prob, size=10000)\n",
    "\n",
    "# Bootstrap null hypothesis data, where mean = white callback mean\n",
    "boot_w = np.random.binomial(n=len(w), p=callback_w_prob, size=10000)"
   ]
  },
  {
   "cell_type": "markdown",
   "metadata": {},
   "source": [
    "#### 95% confidence interval & margin of error"
   ]
  },
  {
   "cell_type": "code",
   "execution_count": 102,
   "metadata": {},
   "outputs": [],
   "source": [
    "# define confidence interval & margin of error function\n",
    "\n",
    "def confidence_interval(p, ci):\n",
    "    margin_of_error = ci*np.sqrt((p*(1-p)/len(data)))\n",
    "    ci_low = p - margin_of_error\n",
    "    ci_high = p + margin_of_error\n",
    "    print('Mean: ', p)\n",
    "    print('Margin of error: ', margin_of_error)\n",
    "    print('Confidence interval: ', ci_low, ',', ci_high)\n",
    "    \n",
    "ci = 1.96"
   ]
  },
  {
   "cell_type": "code",
   "execution_count": 100,
   "metadata": {},
   "outputs": [
    {
     "name": "stdout",
     "output_type": "stream",
     "text": [
      " White-sounding population: \n",
      "Mean:  0.09645667351129364\n",
      "Margin of error:  0.008291483144922288\n",
      "Confidence interval:  0.08816519036637135 , 0.10474815665621592\n",
      "\n",
      " Black-sounding population: \n",
      "Mean:  0.0644194661190965\n",
      "Margin of error:  0.006895102711271803\n",
      "Confidence interval:  0.0575243634078247 , 0.07131456883036831\n"
     ]
    }
   ],
   "source": [
    "print(' White-sounding population: ')\n",
    "confidence_interval(boot_w.mean()/len(w), ci)\n",
    "\n",
    "print(\"\\n\",'Black-sounding population: ')\n",
    "confidence_interval(boot_b.mean()/len(b), ci)"
   ]
  },
  {
   "cell_type": "markdown",
   "metadata": {},
   "source": [
    "#### P-value\n",
    "\n",
    "The null distribution is the expected callbacks of bootstrapped white-sounding population. Since # black callbacks < # white callbacks, P-value is all values of this null dist < black callbacks."
   ]
  },
  {
   "cell_type": "code",
   "execution_count": 90,
   "metadata": {},
   "outputs": [
    {
     "name": "stdout",
     "output_type": "stream",
     "text": [
      "P-value:  0.0\n"
     ]
    }
   ],
   "source": [
    "p = np.sum( boot_w <= callback_b_sum ) / len(callback_sim)\n",
    "print('P-value: ', p)"
   ]
  },
  {
   "cell_type": "markdown",
   "metadata": {},
   "source": [
    "<b>Result</b>: P-value much smaller than 0.05. Reject null - likely differences."
   ]
  },
  {
   "cell_type": "markdown",
   "metadata": {},
   "source": [
    "### 2 . Frequentist approach\n",
    "\n",
    "Sample distribution of the difference <i>of</i> two proportions (variable is \"(p1 - p2)\"), where null hypothesis is that p1-p2 = 0."
   ]
  },
  {
   "cell_type": "markdown",
   "metadata": {},
   "source": [
    "#### 95% confidence interval & margin of error"
   ]
  },
  {
   "cell_type": "code",
   "execution_count": 101,
   "metadata": {},
   "outputs": [
    {
     "name": "stdout",
     "output_type": "stream",
     "text": [
      " White-sounding population: \n",
      "Mean:  0.09650924024640657\n",
      "Margin of error:  0.008293500911877656\n",
      "Confidence interval:  0.08821573933452892 , 0.10480274115828422\n",
      "\n",
      " Black-sounding population: \n",
      "Mean:  0.06447638603696099\n",
      "Margin of error:  0.0068979383930825484\n",
      "Confidence interval:  0.05757844764387844 , 0.07137432443004353\n"
     ]
    }
   ],
   "source": [
    "print(' White-sounding population: ')\n",
    "confidence_interval(callback_w_prob, ci)\n",
    "\n",
    "print(\"\\n\",'Black-sounding population: ')\n",
    "confidence_interval(callback_b_prob, ci)"
   ]
  },
  {
   "cell_type": "markdown",
   "metadata": {},
   "source": [
    "#### P-value"
   ]
  },
  {
   "cell_type": "code",
   "execution_count": 72,
   "metadata": {},
   "outputs": [
    {
     "name": "stdout",
     "output_type": "stream",
     "text": [
      "z-score (manual):  4.108412152434346\n",
      "z-score (scipy):  4.114705290861751\n",
      "p-value (manual):  1.9919434187925383e-05\n",
      "p-value (scipy):  3.940802103128885e-05\n"
     ]
    }
   ],
   "source": [
    "import math\n",
    "\n",
    "# Calculate manually first\n",
    "\n",
    "p_hat = (sum(callback_w) + sum(callback_b)) / (n_w + n_b) # pooled proportion\n",
    "z_score_1 = (callback_w_prob - callback_b_prob) / math.sqrt( p_hat*(1 - p_hat)*( (1/n_w) + (1/n_b) ) )\n",
    "pvalue_1 = stats.norm.sf(abs(z_score))\n",
    "\n",
    "# Use scipy t-test in lieu of options for automated z-test; w/ large sample sizes t-test indistinguishable from z-test\n",
    "z_score_2, pvalue_2 = stats.ttest_ind(callback_w, callback_b)\n",
    "\n",
    "print('z-score (manual): ', z_score_1)\n",
    "print('z-score (scipy): ', z_score_2)\n",
    "print('p-value (manual): ', pvalue_1)\n",
    "print('p-value (scipy): ', pvalue_2)"
   ]
  },
  {
   "cell_type": "markdown",
   "metadata": {},
   "source": [
    "<b>Result</b>: P-value much smaller than 0.05 in all cases. Reject null again - likely differences."
   ]
  },
  {
   "cell_type": "markdown",
   "metadata": {},
   "source": [
    "> ### Q4. Write a story describing the statistical significance in the context of the original problem\n",
    "\n",
    "There's insufficient evidence for no difference between black- and white-sounding named populations. In fact, observing the very small P-values, large difference between the two population's callback rates, and lack of overlap between their 95% confidence intervals, it's probably safe to infer that differences do exist.\n",
    "\n",
    "Specifically, black-sounding jobseekers are less likely to receive a callback - this implies having a black-sounding name discriminates against getting a callback, i.e. racial bias."
   ]
  },
  {
   "cell_type": "markdown",
   "metadata": {
    "collapsed": true
   },
   "source": [
    "> ### Q5. Does your analysis mean that race/name is the most important factor in callback success? Why or why not? If not, how would you amend your analysis?</b>\n",
    "\n",
    "It's definitely an important factor, but is it the most important? Can't say until the series of analyses performed here are repeated on all the other parameters in the dataset. \n",
    "\n",
    "Analysis would be amended to include all the other factors - either repeating it on each factor, or performing a regression test in which the parameters are modelled together and weighed by how much they contribute to the likelihood of callback.\n"
   ]
  },
  {
   "cell_type": "code",
   "execution_count": null,
   "metadata": {},
   "outputs": [],
   "source": []
  }
 ],
 "metadata": {
  "kernelspec": {
   "display_name": "Python 3",
   "language": "python",
   "name": "python3"
  },
  "language_info": {
   "codemirror_mode": {
    "name": "ipython",
    "version": 3
   },
   "file_extension": ".py",
   "mimetype": "text/x-python",
   "name": "python",
   "nbconvert_exporter": "python",
   "pygments_lexer": "ipython3",
   "version": "3.6.3"
  }
 },
 "nbformat": 4,
 "nbformat_minor": 1
}
